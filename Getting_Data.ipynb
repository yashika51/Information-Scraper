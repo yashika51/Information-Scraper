{
  "nbformat": 4,
  "nbformat_minor": 0,
  "metadata": {
    "kernelspec": {
      "display_name": "Python 3",
      "language": "python",
      "name": "python3"
    },
    "language_info": {
      "codemirror_mode": {
        "name": "ipython",
        "version": 3
      },
      "file_extension": ".py",
      "mimetype": "text/x-python",
      "name": "python",
      "nbconvert_exporter": "python",
      "pygments_lexer": "ipython3",
      "version": "3.6.0"
    },
    "colab": {
      "name": "Getting_Data.ipynb",
      "provenance": []
    }
  },
  "cells": [
    {
      "cell_type": "markdown",
      "metadata": {
        "id": "QwQF1OnZqkBg",
        "colab_type": "text"
      },
      "source": [
        "# Using NLP"
      ]
    },
    {
      "cell_type": "code",
      "metadata": {
        "id": "3l7r6ct2qiv_",
        "colab_type": "code",
        "outputId": "b605764b-8aad-489d-d845-5b6cf0f72ed2",
        "colab": {
          "base_uri": "https://localhost:8080/",
          "height": 493
        }
      },
      "source": [
        "#installing nltk for processing text newspaper3k for extracting text from articles,datefinder to find the dates in article\n",
        "\n",
        "!pip install nltk\n",
        "!pip install newspaper3k\n",
        "!pip install datefinder"
      ],
      "execution_count": 120,
      "outputs": [
        {
          "output_type": "stream",
          "text": [
            "Requirement already satisfied: nltk in /usr/local/lib/python3.6/dist-packages (3.2.5)\n",
            "Requirement already satisfied: six in /usr/local/lib/python3.6/dist-packages (from nltk) (1.12.0)\n",
            "Requirement already satisfied: newspaper3k in /usr/local/lib/python3.6/dist-packages (0.2.8)\n",
            "Requirement already satisfied: requests>=2.10.0 in /usr/local/lib/python3.6/dist-packages (from newspaper3k) (2.21.0)\n",
            "Requirement already satisfied: tinysegmenter==0.3 in /usr/local/lib/python3.6/dist-packages (from newspaper3k) (0.3)\n",
            "Requirement already satisfied: jieba3k>=0.35.1 in /usr/local/lib/python3.6/dist-packages (from newspaper3k) (0.35.1)\n",
            "Requirement already satisfied: python-dateutil>=2.5.3 in /usr/local/lib/python3.6/dist-packages (from newspaper3k) (2.6.1)\n",
            "Requirement already satisfied: feedparser>=5.2.1 in /usr/local/lib/python3.6/dist-packages (from newspaper3k) (5.2.1)\n",
            "Requirement already satisfied: PyYAML>=3.11 in /usr/local/lib/python3.6/dist-packages (from newspaper3k) (3.13)\n",
            "Requirement already satisfied: Pillow>=3.3.0 in /usr/local/lib/python3.6/dist-packages (from newspaper3k) (6.2.2)\n",
            "Requirement already satisfied: nltk>=3.2.1 in /usr/local/lib/python3.6/dist-packages (from newspaper3k) (3.2.5)\n",
            "Requirement already satisfied: cssselect>=0.9.2 in /usr/local/lib/python3.6/dist-packages (from newspaper3k) (1.1.0)\n",
            "Requirement already satisfied: feedfinder2>=0.0.4 in /usr/local/lib/python3.6/dist-packages (from newspaper3k) (0.0.4)\n",
            "Requirement already satisfied: beautifulsoup4>=4.4.1 in /usr/local/lib/python3.6/dist-packages (from newspaper3k) (4.6.3)\n",
            "Requirement already satisfied: tldextract>=2.0.1 in /usr/local/lib/python3.6/dist-packages (from newspaper3k) (2.2.2)\n",
            "Requirement already satisfied: lxml>=3.6.0 in /usr/local/lib/python3.6/dist-packages (from newspaper3k) (4.2.6)\n",
            "Requirement already satisfied: chardet<3.1.0,>=3.0.2 in /usr/local/lib/python3.6/dist-packages (from requests>=2.10.0->newspaper3k) (3.0.4)\n",
            "Requirement already satisfied: idna<2.9,>=2.5 in /usr/local/lib/python3.6/dist-packages (from requests>=2.10.0->newspaper3k) (2.8)\n",
            "Requirement already satisfied: certifi>=2017.4.17 in /usr/local/lib/python3.6/dist-packages (from requests>=2.10.0->newspaper3k) (2019.11.28)\n",
            "Requirement already satisfied: urllib3<1.25,>=1.21.1 in /usr/local/lib/python3.6/dist-packages (from requests>=2.10.0->newspaper3k) (1.24.3)\n",
            "Requirement already satisfied: six>=1.5 in /usr/local/lib/python3.6/dist-packages (from python-dateutil>=2.5.3->newspaper3k) (1.12.0)\n",
            "Requirement already satisfied: setuptools in /usr/local/lib/python3.6/dist-packages (from tldextract>=2.0.1->newspaper3k) (45.1.0)\n",
            "Requirement already satisfied: requests-file>=1.4 in /usr/local/lib/python3.6/dist-packages (from tldextract>=2.0.1->newspaper3k) (1.4.3)\n",
            "Requirement already satisfied: datefinder in /usr/local/lib/python3.6/dist-packages (0.7.0)\n",
            "Requirement already satisfied: pytz in /usr/local/lib/python3.6/dist-packages (from datefinder) (2018.9)\n",
            "Requirement already satisfied: regex>=2017.02.08 in /usr/local/lib/python3.6/dist-packages (from datefinder) (2019.12.20)\n",
            "Requirement already satisfied: python-dateutil>=2.4.2 in /usr/local/lib/python3.6/dist-packages (from datefinder) (2.6.1)\n",
            "Requirement already satisfied: six>=1.5 in /usr/local/lib/python3.6/dist-packages (from python-dateutil>=2.4.2->datefinder) (1.12.0)\n"
          ],
          "name": "stdout"
        }
      ]
    },
    {
      "cell_type": "code",
      "metadata": {
        "id": "u9t5tIctqwP-",
        "colab_type": "code",
        "colab": {}
      },
      "source": [
        "#importing neccesary pac\n",
        "import nltk\n",
        "from newspaper import Article\n",
        "import pandas as pd\n",
        "import numpy as np\n",
        "import regex as re\n",
        "from nltk import word_tokenize\n",
        "from nltk import sent_tokenize"
      ],
      "execution_count": 0,
      "outputs": []
    },
    {
      "cell_type": "code",
      "metadata": {
        "id": "BGtgmz4Yq68e",
        "colab_type": "code",
        "colab": {}
      },
      "source": [
        "#getting article from url \n",
        "\n",
        "article=Article(url)"
      ],
      "execution_count": 0,
      "outputs": []
    },
    {
      "cell_type": "code",
      "metadata": {
        "id": "e_xP8YuUrEPv",
        "colab_type": "code",
        "colab": {}
      },
      "source": [
        "article.download()\n",
        "article.parse()\n",
        "article.nlp()"
      ],
      "execution_count": 0,
      "outputs": []
    },
    {
      "cell_type": "code",
      "metadata": {
        "id": "3WDDtvMZrGCw",
        "colab_type": "code",
        "outputId": "4ef860ed-4f35-468d-f60d-091d4c6e64a5",
        "colab": {
          "base_uri": "https://localhost:8080/",
          "height": 34
        }
      },
      "source": [
        "#no authors listed\n",
        "article.authors"
      ],
      "execution_count": 124,
      "outputs": [
        {
          "output_type": "execute_result",
          "data": {
            "text/plain": [
              "[]"
            ]
          },
          "metadata": {
            "tags": []
          },
          "execution_count": 124
        }
      ]
    },
    {
      "cell_type": "code",
      "metadata": {
        "id": "FGsz7ziurLoW",
        "colab_type": "code",
        "outputId": "6736e29c-0d25-4fa7-8a78-dc55e0db9cc3",
        "colab": {
          "base_uri": "https://localhost:8080/",
          "height": 34
        }
      },
      "source": [
        "#article publish date\n",
        "article.publish_date"
      ],
      "execution_count": 125,
      "outputs": [
        {
          "output_type": "execute_result",
          "data": {
            "text/plain": [
              "datetime.datetime(2020, 1, 21, 8, 30, 16, tzinfo=tzlocal())"
            ]
          },
          "metadata": {
            "tags": []
          },
          "execution_count": 125
        }
      ]
    },
    {
      "cell_type": "code",
      "metadata": {
        "id": "y2rYwVztrQBG",
        "colab_type": "code",
        "outputId": "297edf31-508c-44e0-b74a-4d9cc597aab3",
        "colab": {
          "base_uri": "https://localhost:8080/",
          "height": 34
        }
      },
      "source": [
        "# Get the top image \n",
        "article.top_image"
      ],
      "execution_count": 126,
      "outputs": [
        {
          "output_type": "execute_result",
          "data": {
            "text/plain": [
              "'https://imgs.mongabay.com/wp-content/uploads/sites/30/2020/01/21135143/2020-01-21-1.png'"
            ]
          },
          "metadata": {
            "tags": []
          },
          "execution_count": 126
        }
      ]
    },
    {
      "cell_type": "code",
      "metadata": {
        "id": "eUu-Wg0WrUyE",
        "colab_type": "code",
        "outputId": "514915e8-2b23-4c6e-d92e-e87e15cc611a",
        "colab": {
          "base_uri": "https://localhost:8080/",
          "height": 938
        }
      },
      "source": [
        "#text\n",
        "print(article.text)"
      ],
      "execution_count": 127,
      "outputs": [
        {
          "output_type": "stream",
          "text": [
            "India’s environment ministry has come out with a standard operating procedure (SOP) to handle elephant deaths caused, or suspected to have been caused, by anthrax.\n",
            "\n",
            "Anthrax is a widespread infectious disease found throughout the world and is considered to be a very serious infectious disease of herbivorous animals.\n",
            "\n",
            "The SOP called for the complete burning of carcasses of animals suspected of dying due to anthrax and complete sanitisation of the area to prevent its further spread.\n",
            "\n",
            "On January 19, 2020, a four-year-old elephant suspected to have died due to anthrax was found in Sambalpur in Odisha. According to a news report, a post-mortem was conducted on the carcass before burying it at the spot. Latest guidelines released by the environment ministry however, advise against burying of carcass suspected with anthrax, an infectious disease found primarily in animals.\n",
            "\n",
            "The Indian government’s Ministry of Environment, Forest and Climate Change (MoEFCC) has recently come out with a Standard Operating Procedure (SOP) for dealing with elephant mortalities due to anthrax and suspected cases of anthrax. The SOP, aimed at preventing an outbreak of the infection among captive or wild elephants and other wildlife, cautioned that while disposing the carcasses of animals in all anthrax/suspected anthrax cases, the “carcass should be burnt completely and under no circumstance be buried” to prevent further spread of the disease.\n",
            "\n",
            "Anthrax is an “acute widespread infectious disease” that occurs throughout the globe and is particularly prevalent in herbivorous animals. Animals like goats, horses, pigs may get the infection as well and because it is a zoonotic disease, humans can get the infection through infected cattle. The disease is found in all parts of the world and, in India, it occurs countrywide. Some districts are even considered as anthrax districts (anthrax belts).\n",
            "\n",
            "It is usually found in animals in southern Indian states and is less frequent to absent in the northern Indian States. In the past years, the anthrax cases have been reported from Andhra Pradesh, Jammu and Kashmir, Tamil Nadu, Odisha and Karnataka.\n",
            "\n",
            "Regarding susceptibility, no mammals have absolute natural immunity against anthrax but the most susceptible animals are cattle and sheep, followed by horse and pig. The disease has also been reported amongst camels and elephants in the country. Anthrax is caused by bacteria known as Bacillus anthracis. It can be found naturally in soil. Animals can become infected when they come in contact with contaminated soil, plants, or water.\n",
            "\n",
            "The central government’s department of animal husbandry and dairying implements a centrally sponsored scheme ‘Livestock Health & Disease Control (LH&DC)’ to focus on controlling and containment of economically important animal diseases. Under this scheme, vaccination is carried out for control of diseases like anthrax as well as “Foot and Mouth Disease (FMD), Peste des Petits Ruminants (PPR), Brucellosis, Hemorrhagic Septicemia (HS), Black Quarter (BQ), Classical Swine Fever, Ranikhet disease, etc.”\n",
            "\n",
            "According to information provided by the central government’s Minister of State in the Ministry of Health and Family Welfare Ashwini Kumar Choubey to parliament in June 2019, anthrax is among the outbreaks reported and responded to in the last five years in India.\n",
            "\n",
            "Preventing an outbreak\n",
            "\n",
            "Anthrax outbreak is a particularly dangerous disease because it can quickly spread to other animals. In October 2019, more than 100 elephants died in Botswana due to a suspected anthrax outbreak.\n",
            "\n",
            "In India, sporadic deaths of wild elephants due to anthrax were being reported. In response, the Project Elephant division of the MoEFCC of central government developed the SOP to deal with the anthrax threat posed to elephants and other wildlife populations in the country.\n",
            "\n",
            "The ministry formed an expert committee in August 2017 to suggest ways to deal with anthrax and EEHV (Elephant endotheliotropic herpes virus) cases. The committee consulted veterinary experts and the National Tiger Conservation Authority (NTCA) for finalising the SOP. The final SOP was sent by the MoEFCC to all states on December 31, 2019, to ensure that “the carcasses of elephants suspected/diagnosed with anthrax are disposed-off in a scientific as well as the transparent manner to prevent any spread of anthrax to other wildlife populations.”\n",
            "\n",
            "The SOP said that for it implementation, the chief wildlife warden would be responsible at the state level, the field director in the case of tiger reserves, the protected area manager in case of a national park, wildlife sanctuary and the concerned forest officers in case of other areas like revenue land, community reserve or a township.\n",
            "\n",
            "The population of the elephant, India’s national heritage animal, as per the last elephant estimation in 2017, is 29,964.\n",
            "\n",
            "Burning preferred way to dispose infected animal carcass\n",
            "\n",
            "The SOP detailed the steps needed to be taken at the field level (reserve forest, protected area, revenue land, tiger reserve, elephant reserve or elsewhere) for dealing with and disposing of elephant carcasses suspected to be affected by anthrax.\n",
            "\n",
            "While dealing with such cases, the first step that the SOP has called for is the constitution of a team to oversee the assessment and disposal of elephant carcasses diagnosed/suspected to be affected by anthrax.\n",
            "\n",
            "It stressed that the officials then need to assess if the elephant is suspected to have died due to anthrax by carefully examining the external signs like bleeding from natural orifices, excessive bloating and rapid decomposition of the carcass, etc. The SOP clarified that such signs “may be detected/externally noted in the case of other diseases and conditions as well” and therefore, as a general precaution, carcasses should not be opened up if any of these external signs are observed.\n",
            "\n",
            "The SOP prescribes that personnel handling the carcass should wear appropriate PPE (personal protective equipment) to safeguard themselves as anthrax is a zoonotic disease.\n",
            "\n",
            "It called for completely burning the carcasses of animals in all anthrax/suspected anthrax cases to prevent its further spread. The SOP stated that to prevent damage and rupture of carcasses due to dragging or lifting by the machinery and escape of vegetative spores, carcasses should be burned at the site of death to minimise the contamination. “Area up to a radius of 50 metres around the carcass should be sanitised using a flame gun. Further, an area up to 50 metres around the carcass should be fenced off using appropriate material for a period of six months,” said the SOP.\n",
            "\n",
            "“Anthrax is a common disease among animals in India. Such an SOP is a welcome step as it will help in streamlining the steps required from all stakeholders to contain any further spread of disease among animals or even humans. A lot of times, in absence of such an SOP, the authorities involved end up doing things that can be disastrous for wildlife,” Central Zoo Authority’s Member Secretary S.P. Yadav told Mongabay-India.\n",
            "\n",
            "It also specified that authorities should “disinfect and guard off the water holes in which carcass was located to prevent disease spread to other wildlife.”\n",
            "\n",
            "“No parts like tusk/tushes from carcass should be collected or preserved as it could also a source of infection to human as well,” said the SOP while adding that the area where the carcass is disposed should be abundantly dusted/mixed with lime powder to prevent earthworms penetrating and bringing out the underneath soil.\n",
            "\n",
            "It also advised that “spatial distribution should be plotted to identify anthrax zones” in the area. The guidelines by the World Health Organisation to deal with anthrax also favours incineration of the body of the animal against its burial.\n",
            "\n",
            "Banner image: The SOP by environment ministry advocates for burning animal carcasses to prevent further spread of anthrax. Photo by A.J.T. Johnsingh/Wikimedia Commons.\n"
          ],
          "name": "stdout"
        }
      ]
    },
    {
      "cell_type": "code",
      "metadata": {
        "id": "K6WyVz3HrW_8",
        "colab_type": "code",
        "outputId": "c57ffac2-823b-4737-d9d9-ccdd920ca978",
        "colab": {
          "base_uri": "https://localhost:8080/",
          "height": 122
        }
      },
      "source": [
        "#summary\n",
        "print(article.summary)"
      ],
      "execution_count": 128,
      "outputs": [
        {
          "output_type": "stream",
          "text": [
            "India’s environment ministry has come out with a standard operating procedure (SOP) to handle elephant deaths caused, or suspected to have been caused, by anthrax.\n",
            "On January 19, 2020, a four-year-old elephant suspected to have died due to anthrax was found in Sambalpur in Odisha.\n",
            "Latest guidelines released by the environment ministry however, advise against burying of carcass suspected with anthrax, an infectious disease found primarily in animals.\n",
            "In October 2019, more than 100 elephants died in Botswana due to a suspected anthrax outbreak.\n",
            "Banner image: The SOP by environment ministry advocates for burning animal carcasses to prevent further spread of anthrax.\n"
          ],
          "name": "stdout"
        }
      ]
    },
    {
      "cell_type": "markdown",
      "metadata": {
        "id": "1lnDVoIsHJMD",
        "colab_type": "text"
      },
      "source": [
        "# Tokenization"
      ]
    },
    {
      "cell_type": "code",
      "metadata": {
        "id": "8OTUNsXBHIqQ",
        "colab_type": "code",
        "colab": {}
      },
      "source": [
        "#creating word tokens\n",
        "tokens=word_tokenize(article.text)\n",
        "#converting the tokens to lower case\n",
        "tokens=[t.lower() for t in tokens]"
      ],
      "execution_count": 0,
      "outputs": []
    },
    {
      "cell_type": "markdown",
      "metadata": {
        "id": "Obhi9tzYsWIR",
        "colab_type": "text"
      },
      "source": [
        "# Dates\n",
        "Getting dates from the article"
      ]
    },
    {
      "cell_type": "code",
      "metadata": {
        "id": "b3hqfP1Jrb6l",
        "colab_type": "code",
        "outputId": "39f04600-3fd9-44d8-be52-d04dc7a0693d",
        "colab": {
          "base_uri": "https://localhost:8080/",
          "height": 54
        }
      },
      "source": [
        "#finding dates in the article\n",
        "\n",
        "import datefinder\n",
        "dates=[]\n",
        "matches = datefinder.find_dates(article.text)\n",
        "for match in matches:\n",
        "    dates.append(match)\n",
        "    # print (match)\n",
        "print(set(dates))\n"
      ],
      "execution_count": 129,
      "outputs": [
        {
          "output_type": "stream",
          "text": [
            "{datetime.datetime(2020, 5, 19, 0, 0), datetime.datetime(2020, 1, 19, 0, 0), datetime.datetime(2017, 8, 19, 0, 0), datetime.datetime(2020, 2, 19, 0, 0), datetime.datetime(2019, 12, 31, 0, 0), datetime.datetime(2019, 10, 19, 0, 0), datetime.datetime(2017, 2, 19, 0, 0), datetime.datetime(2050, 2, 19, 0, 0), datetime.datetime(100, 2, 19, 0, 0), datetime.datetime(2019, 6, 19, 0, 0)}\n"
          ],
          "name": "stdout"
        }
      ]
    },
    {
      "cell_type": "markdown",
      "metadata": {
        "id": "LxPMseSqsNEl",
        "colab_type": "text"
      },
      "source": [
        "# AREA:\n",
        "Getting the areas listed in article"
      ]
    },
    {
      "cell_type": "code",
      "metadata": {
        "id": "7yLWC0ijuCpL",
        "colab_type": "code",
        "colab": {
          "base_uri": "https://localhost:8080/",
          "height": 34
        },
        "outputId": "43ef2ed1-e04f-4a71-f7eb-87c52c6fb419"
      },
      "source": [
        "states=[\"Andhra Pradesh\",\"Arunachal Pradesh \",\"Assam\",\"Bihar\",\"Chhattisgarh\",\"Goa\",\"Gujarat\",\"Haryana\",\"Himachal Pradesh\",\"Jammu and Kashmir\",\"Jharkhand\",\"Karnataka\",\"Kerala\",\"Madhya Pradesh\",\"Maharashtra\",\"Manipur\",\"Meghalaya\",\"Mizoram\",\"Nagaland\",\"Odisha\",\"Punjab\",\"Rajasthan\",\"Sikkim\",\"Tamil Nadu\",\"Telangana\",\"Tripura\",\"Uttar Pradesh\",\"Uttarakhand\",\"West Bengal\",\"Andaman and Nicobar Islands\",\"Chandigarh\",\"Dadra and Nagar Haveli\",\"Daman and Diu\",\"Lakshadweep\",\"National Capital Territory of Delhi\",\"Puducherry\"]\n",
        "#converting to lower case\n",
        "states=[s.lower() for s in states]\n",
        "\n",
        "#compare and store the states found\n",
        "area=[ s for w in tokens for s in states if w==s ]\n",
        "print(set(area))\n"
      ],
      "execution_count": 136,
      "outputs": [
        {
          "output_type": "stream",
          "text": [
            "{'odisha', 'karnataka'}\n"
          ],
          "name": "stdout"
        }
      ]
    },
    {
      "cell_type": "code",
      "metadata": {
        "id": "VLPDe5qrIXlg",
        "colab_type": "code",
        "colab": {},
        "cellView": "form"
      },
      "source": [
        "#@title Alternatively\n",
        "# import cliff\n",
        "# c=cliff(article.text)\n",
        "# RESULT FROM https://cliff.mediacloud.org/\n",
        "df=pd.DataFrame(\n",
        "\n",
        "{\n",
        "  \"milliseconds\": 14,\n",
        "  \"language\": \"EN\",\n",
        "  \"version\": \"2.6.0\",\n",
        "  \"results\": {\n",
        "    \"places\": {\n",
        "      \"mentions\": [\n",
        "        {\n",
        "          \"featureCode\": \"PCLI\",\n",
        "          \"featureClass\": \"A\",\n",
        "          \"confidence\": 1,\n",
        "          \"lon\": 79,\n",
        "          \"countryGeoNameId\": \"1269750\",\n",
        "          \"source\": {\n",
        "            \"charIndex\": 0,\n",
        "            \"string\": \"India\"\n",
        "          },\n",
        "          \"population\": 1173108018,\n",
        "          \"stateGeoNameId\": \"\",\n",
        "          \"countryCode\": \"IN\",\n",
        "          \"name\": \"Republic of India\",\n",
        "          \"stateCode\": \"00\",\n",
        "          \"id\": 1269750,\n",
        "          \"lat\": 22\n",
        "        }\n",
        "      ],\n",
        "      \"focus\": {\n",
        "        \"cities\": [],\n",
        "        \"countries\": [\n",
        "          {\n",
        "            \"score\": 1,\n",
        "            \"featureCode\": \"PCLI\",\n",
        "            \"stateGeoNameId\": \"\",\n",
        "            \"featureClass\": \"A\",\n",
        "            \"countryCode\": \"IN\",\n",
        "            \"name\": \"Republic of India\",\n",
        "            \"lon\": 79,\n",
        "            \"countryGeoNameId\": \"1269750\",\n",
        "            \"stateCode\": \"00\",\n",
        "            \"id\": 1269750,\n",
        "            \"lat\": 22,\n",
        "            \"population\": 1173108018\n",
        "          }\n",
        "        ],\n",
        "        \"states\": []\n",
        "      }\n",
        "    },\n",
        "    \"organizations\": [\n",
        "      {\n",
        "        \"name\": \"environment ministry\",\n",
        "        \"count\": 1\n",
        "      }\n",
        "    ],\n",
        "    \"people\": []\n",
        "  },\n",
        "  \"status\": \"ok\"\n",
        "}\n",
        ")"
      ],
      "execution_count": 0,
      "outputs": []
    },
    {
      "cell_type": "markdown",
      "metadata": {
        "id": "pxl5DZf0sHZe",
        "colab_type": "text"
      },
      "source": [
        "# Diseases\n",
        "Getting the diseases listed in the article"
      ]
    },
    {
      "cell_type": "code",
      "metadata": {
        "id": "XHMI1CTBmu4W",
        "colab_type": "code",
        "colab": {}
      },
      "source": [
        "diseases='Rabies, Brucellosis, Toxoplasmosis, Cysticercosis, Echinococcosis, Japanese Encephalitis (JE), Plague, Leptospirosis, Scrub typus, Nipah, Trypanosomiasis, Kyasanur forest disease,Crimean-Congo haemorrhagic fever,anthrax'\n",
        "diseases=[d for d.lower() in diseases.split(',')]"
      ],
      "execution_count": 0,
      "outputs": []
    },
    {
      "cell_type": "code",
      "metadata": {
        "id": "iAgzBBsCnqS8",
        "colab_type": "code",
        "outputId": "2270d4f6-a979-4e91-9483-4b7c79cde434",
        "colab": {
          "base_uri": "https://localhost:8080/",
          "height": 255
        }
      },
      "source": [
        "diseases"
      ],
      "execution_count": 137,
      "outputs": [
        {
          "output_type": "execute_result",
          "data": {
            "text/plain": [
              "['rabies',\n",
              " ' brucellosis',\n",
              " ' toxoplasmosis',\n",
              " ' cysticercosis',\n",
              " ' echinococcosis',\n",
              " ' japanese encephalitis (je)',\n",
              " ' plague',\n",
              " ' leptospirosis',\n",
              " ' scrub typus',\n",
              " ' nipah',\n",
              " ' trypanosomiasis',\n",
              " ' kyasanur forest disease',\n",
              " 'crimean-congo haemorrhagic fever',\n",
              " 'anthrax']"
            ]
          },
          "metadata": {
            "tags": []
          },
          "execution_count": 137
        }
      ]
    },
    {
      "cell_type": "code",
      "metadata": {
        "id": "ENoTp_eWo5wK",
        "colab_type": "code",
        "colab": {}
      },
      "source": [
        "tokens=word_tokenize(article.text)\n",
        "found_diseases=[]\n",
        "found_diseases=[w for w in tokens for d in diseases if w==d]"
      ],
      "execution_count": 0,
      "outputs": []
    },
    {
      "cell_type": "code",
      "metadata": {
        "id": "r3Xx3iffpiJs",
        "colab_type": "code",
        "outputId": "7d377928-7c09-40f1-ed0d-7a3c94f2407b",
        "colab": {
          "base_uri": "https://localhost:8080/",
          "height": 34
        }
      },
      "source": [
        "set(found_diseases)"
      ],
      "execution_count": 139,
      "outputs": [
        {
          "output_type": "execute_result",
          "data": {
            "text/plain": [
              "{'anthrax'}"
            ]
          },
          "metadata": {
            "tags": []
          },
          "execution_count": 139
        }
      ]
    },
    {
      "cell_type": "markdown",
      "metadata": {
        "id": "W1y9ByDbqA75",
        "colab_type": "text"
      },
      "source": [
        "# Animals\n",
        "Getting animals listed in the article"
      ]
    },
    {
      "cell_type": "code",
      "metadata": {
        "id": "GznbZca_poDd",
        "colab_type": "code",
        "outputId": "fa800c42-043c-4359-eca0-842cee0d0da5",
        "colab": {
          "base_uri": "https://localhost:8080/",
          "height": 34
        }
      },
      "source": [
        "livestock='Cattle,Adult Female Cattle,Buffalo,Adult Female Buffalo,Total Bovines,Sheep,Goat,Horses,Ponies,Camels,Pigs,Mules,Donkeys,Yak,Mithun,Elephant'\n",
        "livestock=[l.lower() for l in livestock.split(',')]\n",
        "\n",
        "found_animals=[t for t in tokens for l in livestock if t==l]\n",
        "print(set(found_animals))"
      ],
      "execution_count": 140,
      "outputs": [
        {
          "output_type": "stream",
          "text": [
            "{'pigs', 'cattle', 'sheep', 'elephant', 'camels', 'horses'}\n"
          ],
          "name": "stdout"
        }
      ]
    },
    {
      "cell_type": "code",
      "metadata": {
        "id": "cX4CuN1DrLCW",
        "colab_type": "code",
        "colab": {}
      },
      "source": [
        ""
      ],
      "execution_count": 0,
      "outputs": []
    }
  ]
}